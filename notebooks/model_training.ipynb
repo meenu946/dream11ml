{
 "cells": [
  {
   "cell_type": "code",
   "execution_count": 18,
   "id": "fc72f118",
   "metadata": {},
   "outputs": [],
   "source": [
    "import pandas as pd\n",
    "import numpy as np\n",
    "from sklearn.model_selection import train_test_split\n",
    "from sklearn.preprocessing import StandardScaler\n",
    "from sklearn.linear_model import LinearRegression\n",
    "from sklearn.ensemble import RandomForestRegressor\n",
    "from sklearn.metrics import mean_squared_error, r2_score\n",
    "import mlflow\n",
    "import mlflow.sklearn\n",
    "\n",
    "from mlflow.models.signature import infer_signature"
   ]
  },
  {
   "cell_type": "code",
   "execution_count": 9,
   "id": "0381c36a",
   "metadata": {},
   "outputs": [
    {
     "data": {
      "text/plain": [
       "<Experiment: artifact_location='file:///c:/Users/Admin/Desktop/dream11ml/notebooks/mlruns/193820164966890080', creation_time=1758525537582, experiment_id='193820164966890080', last_update_time=1758525537582, lifecycle_stage='active', name='Fantasy Cricket Prediction', tags={}>"
      ]
     },
     "execution_count": 9,
     "metadata": {},
     "output_type": "execute_result"
    }
   ],
   "source": [
    "mlflow.set_experiment(\"Fantasy Cricket Prediction\")"
   ]
  },
  {
   "cell_type": "code",
   "execution_count": 10,
   "id": "387d98ba",
   "metadata": {},
   "outputs": [
    {
     "name": "stdout",
     "output_type": "stream",
     "text": [
      "Loading processed data...\n",
      "Data loaded successfully.\n"
     ]
    }
   ],
   "source": [
    "print(\"Loading processed data...\")\n",
    "try:\n",
    "    df = pd.read_csv('C:/Users/Admin/Desktop/dream11ml/data/processed/processed_data.csv')\n",
    "    print(\"Data loaded successfully.\")\n",
    "except FileNotFoundError:\n",
    "    print(\"Error: Processed data file not found. Please run the data pipeline first.\")\n",
    "    exit()\n"
   ]
  },
  {
   "cell_type": "code",
   "execution_count": 11,
   "id": "913e88e8",
   "metadata": {},
   "outputs": [
    {
     "name": "stdout",
     "output_type": "stream",
     "text": [
      "\n",
      "Features selected for training:\n",
      "Index(['name', 'decision', '1st_inning_score', '2nd_inning_score', 'venue_id',\n",
      "       'home_overs', 'home_runs', 'home_wickets', 'home_boundaries',\n",
      "       'away_overs',\n",
      "       ...\n",
      "       'description_9th match (D/N), Indian Premier League at Mohali, Apr 13 2011',\n",
      "       'description_9th match (D/N), Indian Premier League at Mumbai, Apr 14 2018',\n",
      "       'description_9th match (N), Indian Premier League at Delhi, Mar 17 2010',\n",
      "       'description_9th match (N), Indian Premier League at Hyderabad (Deccan), Apr 24 2008',\n",
      "       'description_9th match (N), Indian Premier League at Mumbai, Apr 16 2016',\n",
      "       'description_9th match (N), Indian Premier League at Pune, Apr 11 2017',\n",
      "       'description_9th match (N), Indian Premier League at Visakhapatnam, Apr 9 2012',\n",
      "       'description_9th match (N), Pepsi Indian Premier League at Ahmedabad, Apr 14 2015',\n",
      "       'description_9th match (N), Pepsi Indian Premier League at Sharjah, Apr 22 2014',\n",
      "       'description_9th match, Indian Premier League at Durban, Apr 23 2009'],\n",
      "      dtype='object', length=977)\n"
     ]
    }
   ],
   "source": [
    "features_to_drop = ['Unnamed: 0', 'season', 'home_team_points', 'away_team_points']\n",
    "X = df.drop(columns=['fantasy_points'] + features_to_drop, errors='ignore')\n",
    "y = df['fantasy_points']\n",
    "\n",
    "# Verify the feature set\n",
    "print(\"\\nFeatures selected for training:\")\n",
    "print(X.columns)\n"
   ]
  },
  {
   "cell_type": "code",
   "execution_count": 20,
   "id": "5a1efb7b",
   "metadata": {},
   "outputs": [],
   "source": [
    "X_train, X_test, y_train, y_test = train_test_split(X, y, test_size=0.2, random_state=42)\n",
    "\n",
    "# Scale numerical features for better model performance\n",
    "# We are selecting numerical features that were not one-hot encoded\n",
    "numerical_cols = ['home_overs', 'home_runs', 'home_wickets', 'home_boundaries',\n",
    "                  'away_overs', 'away_runs', 'away_wickets', 'away_boundaries',\n",
    "                  'score_ratio', 'home_advantage']\n",
    "\n",
    "# Filter the list to include only columns present in the DataFrame\n",
    "numerical_cols = [col for col in numerical_cols if col in X_train.columns]\n",
    "\n",
    "# IMPORTANT: Convert integer columns to floats to avoid schema enforcement warnings\n",
    "for col in numerical_cols:\n",
    "    if X_train[col].dtype == 'int64':\n",
    "        X_train[col] = X_train[col].astype('float64')\n",
    "    if X_test[col].dtype == 'int64':\n",
    "        X_test[col] = X_test[col].astype('float64')\n",
    "\n",
    "scaler = StandardScaler()\n",
    "X_train[numerical_cols] = scaler.fit_transform(X_train[numerical_cols])\n",
    "X_test[numerical_cols] = scaler.transform(X_test[numerical_cols])\n"
   ]
  },
  {
   "cell_type": "code",
   "execution_count": 22,
   "id": "e11de1ec",
   "metadata": {},
   "outputs": [
    {
     "name": "stdout",
     "output_type": "stream",
     "text": [
      "\n",
      "Starting MLflow experiment for Linear Regression...\n",
      "Linear Regression Metrics - RMSE: 6.1113, R-squared: 0.9958\n"
     ]
    },
    {
     "name": "stderr",
     "output_type": "stream",
     "text": [
      "c:\\Users\\Admin\\AppData\\Local\\Programs\\Python\\Python311\\Lib\\site-packages\\mlflow\\types\\utils.py:452: UserWarning: Hint: Inferred schema contains integer column(s). Integer columns in Python cannot represent missing values. If your input data contains missing values at inference time, it will be encoded as floats and will cause a schema enforcement error. The best way to avoid this problem is to infer the model schema based on a realistic data sample (training dataset) that includes missing values. Alternatively, you can declare integer columns as doubles (float64) whenever these columns may have missing values. See `Handling Integers With Missing Values <https://www.mlflow.org/docs/latest/models.html#handling-integers-with-missing-values>`_ for more details.\n",
      "  warnings.warn(\n",
      "2025/09/22 13:02:03 WARNING mlflow.models.model: `artifact_path` is deprecated. Please use `name` instead.\n",
      "Downloading artifacts: 100%|██████████| 7/7 [00:00<00:00, 239.37it/s] \n"
     ]
    },
    {
     "name": "stdout",
     "output_type": "stream",
     "text": [
      "Linear Regression model logged to MLflow.\n"
     ]
    }
   ],
   "source": [
    "print(\"\\nStarting MLflow experiment for Linear Regression...\")\n",
    "with mlflow.start_run(run_name=\"Linear_Regression_Model\") as lr_run:\n",
    "    # Log parameters\n",
    "    mlflow.log_param(\"model_name\", \"Linear Regression\")\n",
    "    \n",
    "    # Train the model\n",
    "    lr_model = LinearRegression()\n",
    "    lr_model.fit(X_train, y_train)\n",
    "    \n",
    "    # Make predictions\n",
    "    y_pred = lr_model.predict(X_test)\n",
    "    \n",
    "    # Evaluate metrics\n",
    "    rmse = np.sqrt(mean_squared_error(y_test, y_pred))\n",
    "    r2 = r2_score(y_test, y_pred)\n",
    "    \n",
    "    # Log metrics\n",
    "    mlflow.log_metric(\"rmse\", rmse)\n",
    "    mlflow.log_metric(\"r2_score\", r2)\n",
    "    \n",
    "    print(f\"Linear Regression Metrics - RMSE: {rmse:.4f}, R-squared: {r2:.4f}\")\n",
    "    \n",
    "    # Infer model signature\n",
    "    signature = infer_signature(X_train, lr_model.predict(X_train))\n",
    "    \n",
    "    # Log the model artifact with a signature and input example\n",
    "    mlflow.sklearn.log_model(lr_model, \"linear-regression-model\", signature=signature, input_example=X_train.iloc[:2])\n",
    "    print(\"Linear Regression model logged to MLflow.\")\n"
   ]
  },
  {
   "cell_type": "code",
   "execution_count": 23,
   "id": "58f654e0",
   "metadata": {},
   "outputs": [
    {
     "name": "stdout",
     "output_type": "stream",
     "text": [
      "\n",
      "Starting MLflow experiment for Random Forest Regressor...\n",
      "Random Forest Regressor Metrics - RMSE: 29.3089, R-squared: 0.9039\n"
     ]
    },
    {
     "name": "stderr",
     "output_type": "stream",
     "text": [
      "c:\\Users\\Admin\\AppData\\Local\\Programs\\Python\\Python311\\Lib\\site-packages\\mlflow\\types\\utils.py:452: UserWarning: Hint: Inferred schema contains integer column(s). Integer columns in Python cannot represent missing values. If your input data contains missing values at inference time, it will be encoded as floats and will cause a schema enforcement error. The best way to avoid this problem is to infer the model schema based on a realistic data sample (training dataset) that includes missing values. Alternatively, you can declare integer columns as doubles (float64) whenever these columns may have missing values. See `Handling Integers With Missing Values <https://www.mlflow.org/docs/latest/models.html#handling-integers-with-missing-values>`_ for more details.\n",
      "  warnings.warn(\n",
      "2025/09/22 13:02:28 WARNING mlflow.models.model: `artifact_path` is deprecated. Please use `name` instead.\n",
      "Downloading artifacts: 100%|██████████| 7/7 [00:00<00:00, 225.10it/s]\n"
     ]
    },
    {
     "name": "stdout",
     "output_type": "stream",
     "text": [
      "Random Forest Regressor model logged to MLflow.\n",
      "\n",
      "Model training and experiment tracking complete.\n"
     ]
    }
   ],
   "source": [
    "print(\"\\nStarting MLflow experiment for Random Forest Regressor...\")\n",
    "with mlflow.start_run(run_name=\"Random_Forest_Regressor_Model\") as rf_run:\n",
    "    # Log parameters\n",
    "    rf_params = {\"n_estimators\": 100, \"max_depth\": 10, \"random_state\": 42}\n",
    "    mlflow.log_params(rf_params)\n",
    "    \n",
    "    # Train the model\n",
    "    rf_model = RandomForestRegressor(**rf_params)\n",
    "    rf_model.fit(X_train, y_train)\n",
    "    \n",
    "    # Make predictions\n",
    "    y_pred = rf_model.predict(X_test)\n",
    "    \n",
    "    # Evaluate metrics\n",
    "    rmse = np.sqrt(mean_squared_error(y_test, y_pred))\n",
    "    r2 = r2_score(y_test, y_pred)\n",
    "    \n",
    "    # Log metrics\n",
    "    mlflow.log_metric(\"rmse\", rmse)\n",
    "    mlflow.log_metric(\"r2_score\", r2)\n",
    "    \n",
    "    print(f\"Random Forest Regressor Metrics - RMSE: {rmse:.4f}, R-squared: {r2:.4f}\")\n",
    "    \n",
    "    # Infer model signature\n",
    "    signature = infer_signature(X_train, rf_model.predict(X_train))\n",
    "\n",
    "    # Log the model artifact with a signature and input example\n",
    "    mlflow.sklearn.log_model(rf_model, \"random-forest-model\", signature=signature, input_example=X_train.iloc[:2])\n",
    "    print(\"Random Forest Regressor model logged to MLflow.\")\n",
    "\n",
    "print(\"\\nModel training and experiment tracking complete.\")\n"
   ]
  },
  {
   "cell_type": "code",
   "execution_count": null,
   "id": "1d27d17b",
   "metadata": {},
   "outputs": [],
   "source": []
  }
 ],
 "metadata": {
  "kernelspec": {
   "display_name": "Python 3",
   "language": "python",
   "name": "python3"
  },
  "language_info": {
   "codemirror_mode": {
    "name": "ipython",
    "version": 3
   },
   "file_extension": ".py",
   "mimetype": "text/x-python",
   "name": "python",
   "nbconvert_exporter": "python",
   "pygments_lexer": "ipython3",
   "version": "3.11.4"
  }
 },
 "nbformat": 4,
 "nbformat_minor": 5
}
